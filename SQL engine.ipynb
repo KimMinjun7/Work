{
 "cells": [
  {
   "cell_type": "code",
   "execution_count": null,
   "metadata": {},
   "outputs": [],
   "source": [
    "# 내 DB에서 데이터 불러오고 저장하기."
   ]
  },
  {
   "cell_type": "code",
   "execution_count": null,
   "metadata": {},
   "outputs": [],
   "source": [
    "# engine은 sql데이터와 연결하는데 있어 가장 간편한 방법인 것 같다."
   ]
  },
  {
   "cell_type": "markdown",
   "metadata": {},
   "source": [
    "# MYSQL"
   ]
  },
  {
   "cell_type": "code",
   "execution_count": 4,
   "metadata": {},
   "outputs": [],
   "source": [
    "# 로컬\n",
    "import pandas as pd\n",
    "from sqlalchemy import create_engine\n",
    "import pymysql\n",
    "host = 'localhost'\n",
    "iid ='아이디'\n",
    "pw = '비번'\n",
    "db_name = 'db명'\n",
    "\n",
    "engine = create_engine(f\"mysql+pymysql://{iid}:{pw}@{host}/{db_name}\", encoding='utf-8')\n",
    "\n",
    "df = pd.read_sql(sql=\"select * from 테이블명\", con = engine)\n",
    "\n",
    "\n",
    "#----db저장---\n",
    "#result.to_sql(name=\"테이블명\", con=engine, if_exists='replace', index = False)\n",
    "# ----db출력----\n",
    "#df = pd.read_sql(sql=\"select * from 테이블명\", con = engine)"
   ]
  },
  {
   "cell_type": "code",
   "execution_count": null,
   "metadata": {},
   "outputs": [],
   "source": [
    "# 포트나 서버 \n",
    "import pandas as pd\n",
    "from sqlalchemy import create_engine\n",
    "import pymysql\n",
    "host = '192.168.xx.xx'\n",
    "port = xxxxx\n",
    "iid ='아이디'\n",
    "pw = '비번'\n",
    "db_name = 'db명'\n",
    "\n",
    "engine = create_engine(f\"mysql+pymysql://{iid}:{pw}@{host}:{port}/{db_name}\", encoding='utf-8')\n",
    "\n",
    "df = pd.read_sql(sql=\"SELECT * FROM 테이블명\", con = engine)"
   ]
  },
  {
   "cell_type": "markdown",
   "metadata": {},
   "source": [
    "# MSSQL"
   ]
  },
  {
   "cell_type": "code",
   "execution_count": null,
   "metadata": {},
   "outputs": [],
   "source": [
    "import pandas as pd\n",
    "from sqlalchemy import create_engine\n",
    "import pymysql\n",
    "host = '192.168.xx.xxx'\n",
    "iid ='아이디'\n",
    "pw = '비번'\n",
    "db_name = \"DB명\"\n",
    "\n",
    "engine = create_engine(f\"mssql+pymssql://{iid}:{pw}@{host}/{db_name}\", encoding='utf-8')\n",
    "df = pd.read_sql(sql=\"select * from 테이블명\", con = engine)\n",
    "\n",
    "#----db저장---\n",
    "#result.to_sql(name=\"테이블명\", con=engine, if_exists='replace', index = False)\n",
    "# ----db출력----\n",
    "#df = pd.read_sql(sql=\"select * from 테이블명\", con = engine)"
   ]
  },
  {
   "cell_type": "markdown",
   "metadata": {},
   "source": [
    "## 쿼리작성 부분(sql=\" \")은 사용자가 원하는 쿼리를 작성하면 된다."
   ]
  }
 ],
 "metadata": {
  "kernelspec": {
   "display_name": "Python 3",
   "language": "python",
   "name": "python3"
  },
  "language_info": {
   "codemirror_mode": {
    "name": "ipython",
    "version": 3
   },
   "file_extension": ".py",
   "mimetype": "text/x-python",
   "name": "python",
   "nbconvert_exporter": "python",
   "pygments_lexer": "ipython3",
   "version": "3.8.5"
  }
 },
 "nbformat": 4,
 "nbformat_minor": 4
}
