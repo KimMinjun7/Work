{
 "cells": [
  {
   "cell_type": "markdown",
   "metadata": {},
   "source": [
    "# 누락치 찾기"
   ]
  },
  {
   "cell_type": "code",
   "execution_count": null,
   "metadata": {},
   "outputs": [],
   "source": [
    "import pandas as pd\n",
    "import numpy as np\n",
    "import os\n",
    "desk = os.path.join(os.path.expanduser('~'),'Desktop')"
   ]
  },
  {
   "cell_type": "code",
   "execution_count": null,
   "metadata": {},
   "outputs": [],
   "source": [
    "# for 반복\n",
    "for i in range(1,15+1):\n",
    "    for k in range(1,2+1):\n",
    "        df=pd.read_csv(desk.replace('\\\\','/')+f'/최종/새 폴더 ({i})/새 폴더 ({k})/result.csv')\n",
    "\n",
    "        df[\"READ_DTM\"] = pd.to_datetime(df[\"READ_DTM\"])\n",
    "\n",
    "        df.set_index(\"READ_DTM\",inplace=True)\n",
    "\n",
    "        df[\"day\"] = df.index.day\n",
    "        df[\"Month\"] = df.index.month\n",
    "        df[\"Date\"] = df.index.date\n",
    "        df[\"Count_CUMUL\"] = np.where(df[\"CUMUL\"]>0,1,0)\n",
    "        df[\"Count_MAX\"] = np.where(df[\"MAX_DED\"]>0,1,0)\n",
    "        count = pd.pivot_table(df, values=[\"Count_CUMUL\",\"Count_MAX\"],columns=\"Date\", aggfunc=\"sum\")\n",
    "        count[\"Total\"] = count.sum(axis=1)\n",
    "        result = count.transpose()\n",
    "        result[\"Count_CUMUL\"] = np.where(result[\"Count_CUMUL\"]==96,0,result[\"Count_CUMUL\"])\n",
    "        result[\"Count_MAX\"] = np.where(result[\"Count_MAX\"]==96,0,result[\"Count_MAX\"])\n",
    "        print(result)\n",
    "        globals()[f\"result_{i}{k}\"] = result"
   ]
  },
  {
   "cell_type": "markdown",
   "metadata": {},
   "source": [
    "# 엑셀파일 만들고 각 시트에 저장"
   ]
  },
  {
   "cell_type": "code",
   "execution_count": null,
   "metadata": {},
   "outputs": [],
   "source": [
    "writer = pd.ExcelWriter(desk.replace('\\\\','/')+'/사업소 누락치 11월.xlsx', engine='xlsxwriter')\n",
    "result_11.to_excel(writer, sheet_name= \"사업소1\")\n",
    "result_21.to_excel(writer, sheet_name= \"사업소2\")\n",
    "result_31.to_excel(writer, sheet_name= \"사업소3\")\n",
    "result_41.to_excel(writer, sheet_name= \"사업소4\")\n",
    "result_51.to_excel(writer, sheet_name= \"사업소5\")\n",
    "result_61.to_excel(writer, sheet_name= \"사업소6\")\n",
    "result_71.to_excel(writer, sheet_name= \"사업소7\")\n",
    "result_81.to_excel(writer, sheet_name= \"사업소8\")\n",
    "result_91.to_excel(writer, sheet_name= \"사업소9\")\n",
    "result_101.to_excel(writer, sheet_name= \"사업소10\")\n",
    "result_111.to_excel(writer, sheet_name= \"사업소11\")\n",
    "result_121.to_excel(writer, sheet_name= \"사업소12\")\n",
    "result_131.to_excel(writer, sheet_name= \"사업소13\")\n",
    "result_141.to_excel(writer, sheet_name= \"사업소14\")\n",
    "result_151.to_excel(writer, sheet_name= \"사업소15\")\n",
    "writer.save()"
   ]
  },
  {
   "cell_type": "code",
   "execution_count": null,
   "metadata": {},
   "outputs": [],
   "source": [
    "writer = pd.ExcelWriter(desk.replace('\\\\','/')+'/사업소 누락치 12월.xlsx', engine='xlsxwriter')\n",
    "result_12.to_excel(writer, sheet_name= \"사업소1\")\n",
    "result_22.to_excel(writer, sheet_name= \"사업소2\")\n",
    "result_32.to_excel(writer, sheet_name= \"사업소3\")\n",
    "result_42.to_excel(writer, sheet_name= \"사업소4\")\n",
    "result_52.to_excel(writer, sheet_name= \"사업소5\")\n",
    "result_62.to_excel(writer, sheet_name= \"사업소6\")\n",
    "result_72.to_excel(writer, sheet_name= \"사업소7\")\n",
    "result_82.to_excel(writer, sheet_name= \"사업소8\")\n",
    "result_92.to_excel(writer, sheet_name= \"사업소9\")\n",
    "result_102.to_excel(writer, sheet_name= \"사업소10\")\n",
    "result_112.to_excel(writer, sheet_name= \"사업소11\")\n",
    "result_122.to_excel(writer, sheet_name= \"사업소12\")\n",
    "result_132.to_excel(writer, sheet_name= \"사업소13\")\n",
    "result_142.to_excel(writer, sheet_name= \"사업소14\")\n",
    "result_152.to_excel(writer, sheet_name= \"사업소15\")\n",
    "writer.save()"
   ]
  }
 ],
 "metadata": {
  "kernelspec": {
   "display_name": "Python 3",
   "language": "python",
   "name": "python3"
  },
  "language_info": {
   "codemirror_mode": {
    "name": "ipython",
    "version": 3
   },
   "file_extension": ".py",
   "mimetype": "text/x-python",
   "name": "python",
   "nbconvert_exporter": "python",
   "pygments_lexer": "ipython3",
   "version": "3.8.5"
  }
 },
 "nbformat": 4,
 "nbformat_minor": 4
}
